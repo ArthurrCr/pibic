{
 "cells": [
  {
   "cell_type": "code",
   "execution_count": 10,
   "metadata": {},
   "outputs": [],
   "source": [
    "import os\n",
    "import json\n",
    "import random\n",
    "from PIL import Image, ImageEnhance, ImageOps\n",
    "from tqdm import tqdm"
   ]
  },
  {
   "cell_type": "code",
   "execution_count": 12,
   "metadata": {},
   "outputs": [
    {
     "name": "stdout",
     "output_type": "stream",
     "text": [
      "Número de imagens de treinamento: 23670\n",
      "Número de imagens de validação: 2631\n"
     ]
    }
   ],
   "source": [
    "# Caminhos para as imagens e máscaras processadas\n",
    "processed_images_dir = '../data/processed/38-Cloud/images/train/'\n",
    "processed_masks_dir = '../data/processed/38-Cloud/masks/train/'\n",
    "\n",
    "# Caminhos para as divisões\n",
    "splits_dir = '../data/processed/38-Cloud/splits/'\n",
    "\n",
    "# Carregando as divisões do dataset\n",
    "with open(os.path.join(splits_dir, 'train_files.json'), 'r') as f:\n",
    "    train_files = json.load(f)\n",
    "with open(os.path.join(splits_dir, 'val_files.json'), 'r') as f:\n",
    "    val_files = json.load(f)\n",
    "\n",
    "\n",
    "print(f\"Número de imagens de treinamento: {len(train_files)}\")\n",
    "print(f\"Número de imagens de validação: {len(val_files)}\")"
   ]
  },
  {
   "cell_type": "markdown",
   "metadata": {},
   "source": [
    "Funções de Transformação"
   ]
  },
  {
   "cell_type": "code",
   "execution_count": 13,
   "metadata": {},
   "outputs": [],
   "source": [
    "def random_horizontal_flip(image, mask, p=0.5):\n",
    "    if random.random() < p:\n",
    "        image = image.transpose(Image.FLIP_LEFT_RIGHT)\n",
    "        mask = mask.transpose(Image.FLIP_LEFT_RIGHT)\n",
    "    return image, mask\n",
    "\n",
    "def random_vertical_flip(image, mask, p=0.5):\n",
    "    if random.random() < p:\n",
    "        image = image.transpose(Image.FLIP_TOP_BOTTOM)\n",
    "        mask = mask.transpose(Image.FLIP_TOP_BOTTOM)\n",
    "    return image, mask\n",
    "\n",
    "def random_rotation(image, mask, degrees=15):\n",
    "    angle = random.uniform(-degrees, degrees)\n",
    "    image = image.rotate(angle, resample=Image.BILINEAR)\n",
    "    mask = mask.rotate(angle, resample=Image.NEAREST)\n",
    "    return image, mask\n",
    "\n",
    "def random_zoom(image, mask, scale_range=(0.9, 1.1)):\n",
    "    scale = random.uniform(*scale_range)\n",
    "    w, h = image.size\n",
    "    new_w, new_h = int(w * scale), int(h * scale)\n",
    "    image = image.resize((new_w, new_h), resample=Image.BILINEAR)\n",
    "    mask = mask.resize((new_w, new_h), resample=Image.NEAREST)\n",
    "\n",
    "    # Crop or pad to original size\n",
    "    if scale < 1.0:\n",
    "        # Pad\n",
    "        pad_w = (w - new_w) // 2\n",
    "        pad_h = (h - new_h) // 2\n",
    "        image = ImageOps.expand(image, border=(pad_w, pad_h), fill=0)\n",
    "        mask = ImageOps.expand(mask, border=(pad_w, pad_h), fill=0)\n",
    "        image = image.crop((0, 0, w, h))\n",
    "        mask = mask.crop((0, 0, w, h))\n",
    "    else:\n",
    "        # Crop\n",
    "        left = (new_w - w) // 2\n",
    "        top = (new_h - h) // 2\n",
    "        image = image.crop((left, top, left + w, top + h))\n",
    "        mask = mask.crop((left, top, left + w, top + h))\n",
    "\n",
    "    return image, mask\n",
    "\n",
    "def random_brightness_contrast(image, brightness_range=(0.8, 1.2), contrast_range=(0.8, 1.2)):\n",
    "    brightness_factor = random.uniform(*brightness_range)\n",
    "    contrast_factor = random.uniform(*contrast_range)\n",
    "\n",
    "    enhancer = ImageEnhance.Brightness(image)\n",
    "    image = enhancer.enhance(brightness_factor)\n",
    "\n",
    "    enhancer = ImageEnhance.Contrast(image)\n",
    "    image = enhancer.enhance(contrast_factor)\n",
    "\n",
    "    return image"
   ]
  },
  {
   "cell_type": "markdown",
   "metadata": {},
   "source": [
    "Aplicando as Transformações e Salvando os Dados Aumentados"
   ]
  },
  {
   "cell_type": "code",
   "execution_count": 14,
   "metadata": {},
   "outputs": [],
   "source": [
    "# Número de aumentos por imagem\n",
    "augmentations_per_image = 2 # originais + 2 * aumentadas\n",
    "\n",
    "# Diretórios para salvar as imagens e máscaras aumentadas\n",
    "augmented_images_dir = '../data/processed/38-Cloud/images/train_augmented/'\n",
    "augmented_masks_dir = '../data/processed/38-Cloud/masks/train_augmented/'\n",
    "\n",
    "os.makedirs(augmented_images_dir, exist_ok=True)\n",
    "os.makedirs(augmented_masks_dir, exist_ok=True)"
   ]
  },
  {
   "cell_type": "markdown",
   "metadata": {},
   "source": [
    "Loop de Aumento de Dados"
   ]
  },
  {
   "cell_type": "code",
   "execution_count": 15,
   "metadata": {},
   "outputs": [
    {
     "name": "stderr",
     "output_type": "stream",
     "text": [
      "Aplicando aumento de dados: 100%|██████████| 23670/23670 [1:01:23<00:00,  6.43it/s]"
     ]
    },
    {
     "name": "stdout",
     "output_type": "stream",
     "text": [
      "Número original de imagens de treinamento: 23670\n",
      "Número de imagens aumentadas: 47340\n",
      "Total de imagens de treinamento após aumento: 71010\n"
     ]
    },
    {
     "name": "stderr",
     "output_type": "stream",
     "text": [
      "\n"
     ]
    }
   ],
   "source": [
    "augmented_train_files = []\n",
    "\n",
    "for img_file in tqdm(train_files, desc=\"Aplicando aumento de dados\"):\n",
    "    img_path = os.path.join(processed_images_dir, img_file)\n",
    "    mask_path = os.path.join(processed_masks_dir, img_file)  # Assumindo que a máscara tem o mesmo nome\n",
    "\n",
    "    # Carregar imagem e máscara\n",
    "    image = Image.open(img_path).convert('RGB')\n",
    "    mask = Image.open(mask_path).convert('L')\n",
    "\n",
    "    for i in range(augmentations_per_image):\n",
    "        augmented_image = image.copy()\n",
    "        augmented_mask = mask.copy()\n",
    "\n",
    "        # Aplicar as transformações\n",
    "        augmented_image, augmented_mask = random_horizontal_flip(augmented_image, augmented_mask, p=0.5)\n",
    "        augmented_image, augmented_mask = random_vertical_flip(augmented_image, augmented_mask, p=0.5)\n",
    "        augmented_image, augmented_mask = random_rotation(augmented_image, augmented_mask, degrees=15)\n",
    "        augmented_image, augmented_mask = random_zoom(augmented_image, augmented_mask, scale_range=(0.9, 1.1))\n",
    "        augmented_image = random_brightness_contrast(augmented_image, brightness_range=(0.8, 1.2), contrast_range=(0.8, 1.2))\n",
    "\n",
    "        # Salvar a imagem e máscara aumentadas\n",
    "        base_name = os.path.splitext(img_file)[0]\n",
    "        augmented_img_file = f\"{base_name}_aug_{i}.png\"\n",
    "        augmented_mask_file = f\"{base_name}_aug_{i}.png\"\n",
    "\n",
    "        augmented_image.save(os.path.join(augmented_images_dir, augmented_img_file))\n",
    "        augmented_mask.save(os.path.join(augmented_masks_dir, augmented_mask_file))\n",
    "\n",
    "        augmented_train_files.append(augmented_img_file)\n",
    "\n",
    "# Combinar os arquivos originais e aumentados\n",
    "train_files_augmented = train_files + augmented_train_files\n",
    "\n",
    "print(f\"Número original de imagens de treinamento: {len(train_files)}\")\n",
    "print(f\"Número de imagens aumentadas: {len(augmented_train_files)}\")\n",
    "print(f\"Total de imagens de treinamento após aumento: {len(train_files_augmented)}\")"
   ]
  },
  {
   "cell_type": "markdown",
   "metadata": {},
   "source": [
    "Atualizando as Divisões do Dataset"
   ]
  },
  {
   "cell_type": "code",
   "execution_count": 16,
   "metadata": {},
   "outputs": [],
   "source": [
    "# Atualizar o train_files.json\n",
    "with open(os.path.join(splits_dir, 'train_files_augmented.json'), 'w') as f:\n",
    "    json.dump(train_files_augmented, f)"
   ]
  }
 ],
 "metadata": {
  "kernelspec": {
   "display_name": "env",
   "language": "python",
   "name": "python3"
  },
  "language_info": {
   "codemirror_mode": {
    "name": "ipython",
    "version": 3
   },
   "file_extension": ".py",
   "mimetype": "text/x-python",
   "name": "python",
   "nbconvert_exporter": "python",
   "pygments_lexer": "ipython3",
   "version": "3.9.0"
  }
 },
 "nbformat": 4,
 "nbformat_minor": 2
}
